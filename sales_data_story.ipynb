{
 "cells": [
  {
   "cell_type": "code",
   "execution_count": 8,
   "metadata": {},
   "outputs": [],
   "source": [
    "# importing data modules\n",
    "import matplotlib.pyplot as plt\n",
    "import numpy as np\n",
    "import pandas as py\n",
    "import seaborn as sns"
   ]
  },
  {
   "cell_type": "code",
   "execution_count": 13,
   "metadata": {},
   "outputs": [],
   "source": [
    "# set the style for seaborn\n",
    "sns.set(style=\"whitegrid\")"
   ]
  },
  {
   "cell_type": "code",
   "execution_count": 22,
   "metadata": {},
   "outputs": [],
   "source": [
    "# loading csv file \n",
    "# adding sep -> separates the data and adds space between rows and column\n",
    "df = py.read_csv(r\"C:/Users/giles/OneDrive - Cape IT Initiative/Desktop/VS Projects\\Sales Story/sales_data_storytelling.csv\", sep=';')"
   ]
  },
  {
   "cell_type": "code",
   "execution_count": 19,
   "metadata": {},
   "outputs": [
    {
     "name": "stdout",
     "output_type": "stream",
     "text": [
      "        Month    Product  UnitsSold  Revenue\n",
      "0  2023/01/01  Notebooks         50  2346.79\n",
      "1  2023/01/01       Pens         55  4987.65\n",
      "2  2023/01/01    Markers         25  2290.35\n",
      "3  2023/01/01    Folders         94  4394.78\n",
      "4  2023/01/01   Staplers        153  4887.80\n"
     ]
    }
   ],
   "source": [
    "# checking file contents and displaying file contents\n",
    "print(df.head())"
   ]
  },
  {
   "cell_type": "code",
   "execution_count": null,
   "metadata": {},
   "outputs": [
    {
     "name": "stdout",
     "output_type": "stream",
     "text": [
      "        Month   Revenue\n",
      "0  2023-01-01  18907.37\n",
      "1  2023-02-01  11553.30\n",
      "2  2023-03-01  10426.56\n",
      "3  2023-04-01   8782.97\n",
      "4  2023-05-01  13220.06\n",
      "5  2023-06-01  13732.25\n",
      "6  2023-07-01  19947.59\n",
      "7  2023-08-01   9842.48\n",
      "8  2023-09-01  15001.41\n",
      "9  2023-10-01  16074.78\n",
      "10 2023-11-01  19136.66\n",
      "11 2023-12-01  11193.40\n"
     ]
    }
   ],
   "source": [
    "# convering Month column to datetime for better handling\n",
    "df['Month'] = py.to_datetime(df['Month'])\n",
    "\n",
    "# group the data by month to calculate total revenue\n",
    "month_revenue = df.groupby('Month')['Revenue'].sum().reset_index()\n",
    "\n",
    "# displaying month revenue results\n",
    "print(month_revenue)"
   ]
  },
  {
   "cell_type": "code",
   "execution_count": 29,
   "metadata": {},
   "outputs": [
    {
     "name": "stdout",
     "output_type": "stream",
     "text": [
      "        Month   Revenue\n",
      "0  2023-01-01  18907.37\n",
      "1  2023-02-01  11553.30\n",
      "2  2023-03-01  10426.56\n",
      "3  2023-04-01   8782.97\n",
      "4  2023-05-01  13220.06\n",
      "5  2023-06-01  13732.25\n",
      "6  2023-07-01  19947.59\n",
      "7  2023-08-01   9842.48\n",
      "8  2023-09-01  15001.41\n",
      "9  2023-10-01  16074.78\n",
      "10 2023-11-01  19136.66\n",
      "11 2023-12-01  11193.40\n"
     ]
    }
   ],
   "source": [
    "# group data by month to calculate total units\n",
    "month_units = df.groupby('Month')['Revenue'].sum().reset_index()\n",
    "\n",
    "# displaying month units result\n",
    "print(month_units)"
   ]
  }
 ],
 "metadata": {
  "kernelspec": {
   "display_name": "Python 3",
   "language": "python",
   "name": "python3"
  },
  "language_info": {
   "codemirror_mode": {
    "name": "ipython",
    "version": 3
   },
   "file_extension": ".py",
   "mimetype": "text/x-python",
   "name": "python",
   "nbconvert_exporter": "python",
   "pygments_lexer": "ipython3",
   "version": "3.12.4"
  }
 },
 "nbformat": 4,
 "nbformat_minor": 2
}
